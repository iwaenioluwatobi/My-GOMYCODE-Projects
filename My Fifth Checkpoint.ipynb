{
 "cells": [
  {
   "cell_type": "code",
   "execution_count": 1,
   "id": "2c759ba5",
   "metadata": {},
   "outputs": [
    {
     "name": "stdout",
     "output_type": "stream",
     "text": [
      "(1, 2, 3)\n"
     ]
    }
   ],
   "source": [
    "#Question1 \n",
    "\n",
    "class Point3D:\n",
    "    x = int()\n",
    "    y = int()\n",
    "    z = int()\n",
    "    \n",
    "    def anything(self):\n",
    "        return (self.x,self.y,self.z)\n",
    "my_point = Point3D()\n",
    "my_point.x = 1\n",
    "my_point.y = 2\n",
    "my_point.z = 3\n",
    "print(my_point.anything())"
   ]
  },
  {
   "cell_type": "code",
   "execution_count": 2,
   "id": "be2da7f2",
   "metadata": {},
   "outputs": [
    {
     "name": "stdout",
     "output_type": "stream",
     "text": [
      "The area of the rectangle is 12\n",
      "The perimeter of the rectangle is 14\n"
     ]
    }
   ],
   "source": [
    "#Question2\n",
    "\n",
    "class Rectangle:\n",
    "    def __init__(self,length,width):\n",
    "        self.length = length\n",
    "        self.width = width\n",
    "    def area(self):\n",
    "        area = self.length*self.width\n",
    "        print(f\"The area of the rectangle is {area}\")\n",
    "    def perimeter(self):\n",
    "        perimeter = 2*(self.length + self.width)\n",
    "        print(f\"The perimeter of the rectangle is {perimeter}\")\n",
    "        \n",
    "my_rectangle = Rectangle(4, 3)     \n",
    "my_rectangle.area()\n",
    "my_rectangle.perimeter()\n"
   ]
  },
  {
   "cell_type": "code",
   "execution_count": 3,
   "id": "d8c8af19",
   "metadata": {},
   "outputs": [
    {
     "name": "stdout",
     "output_type": "stream",
     "text": [
      "The area is 50.272\n",
      "The perimeter is: 25.136\n",
      "Enter the point x: 66\n",
      "Enter the point y: 77\n",
      "The point (66,77) belongs to the circle\n"
     ]
    }
   ],
   "source": [
    "#Question3\n",
    "class Circle:\n",
    "    def __init__(self,O,r):\n",
    "        self.O = O\n",
    "        self.r = r\n",
    "    def area(self):\n",
    "        PI = 3.142\n",
    "        area = PI * self.r * self.r\n",
    "        print(f\"The area is {area}\")\n",
    "    def perimeter(self):\n",
    "        PI = 3.142\n",
    "        perimeter = 2 * PI * self.r\n",
    "        print(f\"The perimeter is: {perimeter}\")\n",
    "    def isinside(self):\n",
    "        x = int(input(\"Enter the point x: \"))\n",
    "        y = int(input(\"Enter the point y: \"))\n",
    "        d = (x - self.O)**2 - (y - self.O)**2\n",
    "        if d < self.r**2:\n",
    "            print(f\"The point ({x},{y}) belongs to the circle\")\n",
    "        elif d > self.r**2:\n",
    "            print(f\"The point ({x},{y}) does not belong to the circle\")\n",
    "obj = Circle(9,4)\n",
    "obj.area()\n",
    "obj.perimeter() \n",
    "obj.isinside()\n"
   ]
  },
  {
   "cell_type": "code",
   "execution_count": null,
   "id": "06491158",
   "metadata": {},
   "outputs": [],
   "source": [
    "#Question4\n",
    "\n",
    "class bank:\n",
    "    balance = 0\n",
    "    def deposit(self):\n",
    "        a = int(input(\"How much do you want to deposit? \"))\n",
    "        self.balance+=a\n",
    "        print(f\"Your deposit was successful, your balance is : {self.balance}\")\n",
    "    def withdraw(self):\n",
    "        b = int(input(\"How much do you want to withdraw? \"))\n",
    "        if b > self.balance: \n",
    "            print(f\"You have inssufficient balance which is {self.balance}\")\n",
    "        else : \n",
    "            self.balance-=b\n",
    "            print(f\"Your withdrawal was successful, your balance is : {self.balance}\")\n",
    "user = bank()\n",
    "def transaction():\n",
    "    c = input(\"Welcome to Zenith bank, type 'deposit'to deposit money and 'withdraw' to withdraw money \").lower()\n",
    "    if c == \"deposit\":\n",
    "        user.deposit()\n",
    "    elif c == \"withdraw\":\n",
    "        user.withdraw()\n",
    "transaction()\n",
    "r = True\n",
    "while r ==True:\n",
    "    run_again = input(\"Do you want to perform another transaction? type 'yes' or 'no' \").lower()\n",
    "    if run_again == \"yes\":\n",
    "        transaction()\n",
    "    else:\n",
    "        r = False\n",
    "        print(\"Thank you for using Zenith bank\")\n",
    "    "
   ]
  }
 ],
 "metadata": {
  "kernelspec": {
   "display_name": "Python 3",
   "language": "python",
   "name": "python3"
  },
  "language_info": {
   "codemirror_mode": {
    "name": "ipython",
    "version": 3
   },
   "file_extension": ".py",
   "mimetype": "text/x-python",
   "name": "python",
   "nbconvert_exporter": "python",
   "pygments_lexer": "ipython3",
   "version": "3.8.8"
  }
 },
 "nbformat": 4,
 "nbformat_minor": 5
}
