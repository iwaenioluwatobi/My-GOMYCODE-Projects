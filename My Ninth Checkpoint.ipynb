{
 "cells": [
  {
   "cell_type": "code",
   "execution_count": 1,
   "id": "f31fa486",
   "metadata": {},
   "outputs": [
    {
     "name": "stdout",
     "output_type": "stream",
     "text": [
      "False\n",
      "3\n"
     ]
    }
   ],
   "source": [
    "#Write a Python program for binary search.\n",
    "def binary_search(sequence, item):\n",
    "    begin_index = 0\n",
    "    end_index = len(sequence)-1\n",
    "    while begin_index <= end_index:\n",
    "        midpoint = begin_index + (end_index - begin_index)// 2\n",
    "        midpoint_value = sequence[midpoint]\n",
    "        if midpoint_value == item:\n",
    "            return midpoint\n",
    "        elif item < midpoint_value:\n",
    "            end_index = midpoint -1\n",
    "        else:\n",
    "            begin_index = midpoint +1\n",
    "            \n",
    "    return False\n",
    "sequence_a = [1,2,3,5,8]\n",
    "item_a = 6\n",
    "sequence_b =[1,2,3,5,8]\n",
    "item_b = 5\n",
    "print(binary_search(sequence_a, item_a))\n",
    "print(binary_search(sequence_b, item_b))"
   ]
  },
  {
   "cell_type": "code",
   "execution_count": 2,
   "id": "69ad0ba4",
   "metadata": {},
   "outputs": [
    {
     "name": "stdout",
     "output_type": "stream",
     "text": [
      "Enter a number 3\n",
      "Enter the power 4\n",
      "81\n"
     ]
    }
   ],
   "source": [
    "#Write a Python program to calculate the value of 'a' to the power 'b'.\n",
    "a = int(input(\"Enter a number \"))\n",
    "b = int(input(\"Enter the power \"))\n",
    "r = 1\n",
    "\n",
    "while b != 0:\n",
    "    r*=a\n",
    "    b-=1\n",
    "\n",
    "print(r)"
   ]
  },
  {
   "cell_type": "code",
   "execution_count": 3,
   "id": "215159de",
   "metadata": {},
   "outputs": [
    {
     "data": {
      "text/plain": [
       "[13, 22, 29, 37, 46, 49, 52, 56, 71]"
      ]
     },
     "execution_count": 3,
     "metadata": {},
     "output_type": "execute_result"
    }
   ],
   "source": [
    "#Write a Python program to sort a list of elements using the bubble sort algorithm.\n",
    "def bubbleSort(l):\n",
    "    for passnum in range(len(l)-1,0,-1):\n",
    "        for i in range(passnum):\n",
    "            if l[i]>l[i+1]:\n",
    "                temp = l[i]\n",
    "                l[i] = l[i+1]\n",
    "                l[i+1] = temp\n",
    "    return l\n",
    "\n",
    "l =  [29,13,22,37,52,49,46,71,56]\n",
    "bubbleSort(l)"
   ]
  },
  {
   "cell_type": "code",
   "execution_count": 4,
   "id": "b330a2f5",
   "metadata": {},
   "outputs": [
    {
     "name": "stdout",
     "output_type": "stream",
     "text": [
      "[13, 22, 29, 37, 46, 49, 52, 56, 71]\n"
     ]
    }
   ],
   "source": [
    "#Write a Python program to sort a list of elements using the merge sort algorithm.\n",
    "def mergeSort(myList):\n",
    "    if len(myList) > 1:\n",
    "        mid = len(myList) // 2\n",
    "        left = myList[:mid]\n",
    "        right = myList[mid:]\n",
    "        mergeSort(left)\n",
    "        mergeSort(right)\n",
    "        i = 0\n",
    "        j = 0\n",
    "        k = 0\n",
    "        while i < len(left) and j < len(right):\n",
    "            if left[i] < right[j]:\n",
    "                myList[k] = left[i]\n",
    "                i += 1\n",
    "            else:\n",
    "                myList[k] = right[j]\n",
    "                j += 1\n",
    "            k += 1\n",
    "\n",
    "        while i < len(left):\n",
    "            myList[k] = left[i]\n",
    "            i += 1\n",
    "            k += 1\n",
    "\n",
    "        while j < len(right):\n",
    "            myList[k]=right[j]\n",
    "            j += 1\n",
    "            k += 1\n",
    "\n",
    "myList = [29,13,22,37,52,49,46,71,56]\n",
    "mergeSort(myList)\n",
    "print(myList)"
   ]
  },
  {
   "cell_type": "code",
   "execution_count": null,
   "id": "f96aca80",
   "metadata": {},
   "outputs": [],
   "source": [
    "# Write a Python program to sort a list of elements using the quick sort algorithm.\n",
    "def partition(arr, low, high):\n",
    "    i = (low-1)      \n",
    "    pivot = arr[high]     \n",
    "    for j in range(low, high):\n",
    "        if arr[j] <= pivot:\n",
    "            i = i+1\n",
    "            arr[i], arr[j] = arr[j], arr[i]\n",
    " \n",
    "    arr[i+1], arr[high] = arr[high], arr[i+1]\n",
    "    return (i+1)\n",
    " \n",
    "def quickSort(arr, low, high):\n",
    "    if len(arr) == 1:\n",
    "        return arr\n",
    "    if low < high:\n",
    "        pi = partition(arr, low, high)\n",
    "        quickSort(arr, low, pi-1)\n",
    "        quickSort(arr, pi+1, high)\n",
    "arr = [29,13,22,37,52,49,46,71,56]\n",
    "n = len(arr)\n",
    "quickSort(arr, 0, n-1)\n",
    "g = []\n",
    "for i in range(n):\n",
    "    g.append(arr[i])\n",
    "print(g)"
   ]
  }
 ],
 "metadata": {
  "kernelspec": {
   "display_name": "Python 3",
   "language": "python",
   "name": "python3"
  },
  "language_info": {
   "codemirror_mode": {
    "name": "ipython",
    "version": 3
   },
   "file_extension": ".py",
   "mimetype": "text/x-python",
   "name": "python",
   "nbconvert_exporter": "python",
   "pygments_lexer": "ipython3",
   "version": "3.8.8"
  }
 },
 "nbformat": 4,
 "nbformat_minor": 5
}
