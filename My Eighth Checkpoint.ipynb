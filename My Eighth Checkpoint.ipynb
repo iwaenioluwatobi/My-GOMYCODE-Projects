{
 "cells": [
  {
   "cell_type": "code",
   "execution_count": 1,
   "id": "687d5f5b",
   "metadata": {},
   "outputs": [
    {
     "name": "stdout",
     "output_type": "stream",
     "text": [
      "Macroeconomics is a branch of economics that studies how an overall economy—the market or other systems that operate on a large scale—behaves.\n",
      "Macroeconomics studies economy-wide phenomena such as inflation, price levels, rate of economic growth, national income, gross domestic product (GDP), and changes in unemployment.\n",
      "Some of the key questions addressed by macroeconomics include: What causes unemployment? What causes inflation? \n",
      "Macroeconomics deals with the performance, structure, and behavior of the entire economy.\n",
      "\n",
      "\n"
     ]
    }
   ],
   "source": [
    "#1. Write a Python program to read an entire text file.\n",
    "with open(\"textfile.txt\", \"w\") as text:\n",
    "    text.write(\"Macroeconomics is a branch of economics that studies how an overall economy—the market or other systems that operate on a large scale—behaves.\\n\")\n",
    "    text.write(\"Macroeconomics studies economy-wide phenomena such as inflation, price levels, rate of economic growth, national income, gross domestic product (GDP), and changes in unemployment.\\n\")\n",
    "    text.write(\"Some of the key questions addressed by macroeconomics include: What causes unemployment? What causes inflation? \\n\")\n",
    "    text.write(\"Macroeconomics deals with the performance, structure, and behavior of the entire economy.\\n\")\n",
    "text = open(\"textfile.txt\", \"r\")\n",
    "print(f\"{text.read()}\\n\")"
   ]
  },
  {
   "cell_type": "code",
   "execution_count": 2,
   "id": "5f236f77",
   "metadata": {},
   "outputs": [
    {
     "name": "stdout",
     "output_type": "stream",
     "text": [
      "Macroeconomics is a branch of economics that studies how an overall economy—the market or other systems that operate on a large scale—behaves.\n",
      "\n",
      "\n",
      "Macroeconomics studies economy-wide phenomena such as inflation, price levels, rate of economic growth, national income, gross domestic product (GDP), and changes in unemployment.\n",
      "\n",
      "\n",
      "Some of the key questions addressed by macroeconomics include: What causes unemployment? What causes inflation? \n",
      "\n",
      "\n",
      "Macroeconomics deals with the performance, structure, and behavior of the entire economy.\n",
      "\n",
      "\n"
     ]
    }
   ],
   "source": [
    "# Write a Python program to read first n lines of a file.\n",
    "with open(\"textfile.txt\", \"r\") as text:\n",
    "    counter = 0\n",
    "    for i in text:\n",
    "        print(f\"{i}\\n\")\n",
    "        counter+=1\n",
    "        if counter == 4:\n",
    "            break"
   ]
  },
  {
   "cell_type": "code",
   "execution_count": null,
   "id": "416cfbac",
   "metadata": {},
   "outputs": [],
   "source": [
    "# Write a Python program to read last n lines of a file\n",
    "a = 0\n",
    "for i in (text.readlines()[-1:]):\n",
    "    print(i,)"
   ]
  },
  {
   "cell_type": "code",
   "execution_count": 23,
   "id": "e68b1bca",
   "metadata": {},
   "outputs": [
    {
     "name": "stdout",
     "output_type": "stream",
     "text": [
      "The number of words is: 72\n",
      "\n"
     ]
    }
   ],
   "source": [
    "#Write a Python program that takes a text file as input and returns the number of words of a given text file.\n",
    "text = open(\"textfile.txt\", \"r\")\n",
    "b = text.read()\n",
    "c = b.split()\n",
    "print(f\"The number of words is: {len(c)}\\n\")\n"
   ]
  },
  {
   "cell_type": "code",
   "execution_count": 24,
   "id": "f8c4eacc",
   "metadata": {},
   "outputs": [
    {
     "name": "stdout",
     "output_type": "stream",
     "text": [
      "Some of the key questions addressed by macroeconomics include: What causes unemployment? What causes inflation? \n",
      "\n",
      "Macroeconomics deals with the performance, structure, and behavior of the entire economy.\n",
      "\n"
     ]
    }
   ],
   "source": [
    "#Write a Python program to read last n lines of a file\n",
    "with open(\"textfile.txt\", \"r\") as text:\n",
    "    a1 = 0\n",
    "    for i in (text.readlines()[-2:]):\n",
    "        print(i)\n",
    "text.close()"
   ]
  },
  {
   "cell_type": "code",
   "execution_count": null,
   "id": "427b8b38",
   "metadata": {},
   "outputs": [],
   "source": []
  }
 ],
 "metadata": {
  "kernelspec": {
   "display_name": "Python 3",
   "language": "python",
   "name": "python3"
  },
  "language_info": {
   "codemirror_mode": {
    "name": "ipython",
    "version": 3
   },
   "file_extension": ".py",
   "mimetype": "text/x-python",
   "name": "python",
   "nbconvert_exporter": "python",
   "pygments_lexer": "ipython3",
   "version": "3.8.8"
  }
 },
 "nbformat": 4,
 "nbformat_minor": 5
}
