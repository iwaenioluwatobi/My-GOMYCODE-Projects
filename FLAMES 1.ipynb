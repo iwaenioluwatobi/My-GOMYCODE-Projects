{
 "cells": [
  {
   "cell_type": "code",
   "execution_count": null,
   "id": "75c0d623",
   "metadata": {},
   "outputs": [],
   "source": [
    "list1 = input(\"Enter firt name:\")\n",
    "list2 = input(\"Enter second name:\")\n",
    "list1 = list(list1) \n",
    "list2 = list(list2)\n",
    "for i in list1[:]:\n",
    "    if i in list2:\n",
    "        list1.remove(i) \n",
    "        list2.remove(i)\n",
    "list3 = [*list1, *list2]\n",
    "print(list3)    "
   ]
  }
 ],
 "metadata": {
  "kernelspec": {
   "display_name": "Python 3",
   "language": "python",
   "name": "python3"
  },
  "language_info": {
   "codemirror_mode": {
    "name": "ipython",
    "version": 3
   },
   "file_extension": ".py",
   "mimetype": "text/x-python",
   "name": "python",
   "nbconvert_exporter": "python",
   "pygments_lexer": "ipython3",
   "version": "3.8.8"
  }
 },
 "nbformat": 4,
 "nbformat_minor": 5
}
