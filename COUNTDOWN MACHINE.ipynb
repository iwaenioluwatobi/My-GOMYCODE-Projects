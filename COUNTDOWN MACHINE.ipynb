{
 "cells": [
  {
   "cell_type": "code",
   "execution_count": 1,
   "id": "a3ed780f",
   "metadata": {},
   "outputs": [
    {
     "name": "stdout",
     "output_type": "stream",
     "text": [
      "Enter the length of the countdown in seconds: 60\n",
      "Fire in the hole\n"
     ]
    }
   ],
   "source": [
    "import time\n",
    "t = int(input(\"Enter the length of the countdown in seconds: \"))\n",
    "def countdown(t):\n",
    "    r = True\n",
    "    while r:\n",
    "        mins, secs = divmod(t,60)\n",
    "        timeformat = '{:02d}:{:02d}'.format(mins, secs)\n",
    "        time.sleep(1)\n",
    "        print(timeformat,end = \"\\r\")\n",
    "        t-=1\n",
    "        if t == -1:\n",
    "            r = False\n",
    "    print(\"Fire in the hole\")\n",
    "countdown(t)"
   ]
  },
  {
   "cell_type": "code",
   "execution_count": null,
   "id": "0b820739",
   "metadata": {},
   "outputs": [],
   "source": []
  }
 ],
 "metadata": {
  "kernelspec": {
   "display_name": "Python 3",
   "language": "python",
   "name": "python3"
  },
  "language_info": {
   "codemirror_mode": {
    "name": "ipython",
    "version": 3
   },
   "file_extension": ".py",
   "mimetype": "text/x-python",
   "name": "python",
   "nbconvert_exporter": "python",
   "pygments_lexer": "ipython3",
   "version": "3.8.8"
  }
 },
 "nbformat": 4,
 "nbformat_minor": 5
}
