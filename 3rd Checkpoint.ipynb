{
 "cells": [
  {
   "cell_type": "code",
   "execution_count": 1,
   "id": "6eb0823a",
   "metadata": {},
   "outputs": [
    {
     "name": "stdout",
     "output_type": "stream",
     "text": [
      "36\n"
     ]
    }
   ],
   "source": [
    "a = [2,3,6]\n",
    "y = 1\n",
    "for i in a:\n",
    "    y*=i\n",
    "print(y)    \n",
    "    "
   ]
  },
  {
   "cell_type": "code",
   "execution_count": 2,
   "id": "16fc6865",
   "metadata": {},
   "outputs": [
    {
     "name": "stdout",
     "output_type": "stream",
     "text": [
      "[(2, 1), (1, 2), (2, 3), (4, 4), (2, 5)]\n"
     ]
    }
   ],
   "source": [
    "def last(n): \n",
    "    return n[-1]\n",
    "def list_tuple(tuples):\n",
    "    return sorted(tuples, key=last)\n",
    "print(list_tuple([(2, 5), (1, 2), (4, 4), (2, 3), (2, 1)]))"
   ]
  },
  {
   "cell_type": "code",
   "execution_count": 3,
   "id": "46333f70",
   "metadata": {},
   "outputs": [
    {
     "name": "stdout",
     "output_type": "stream",
     "text": [
      "{'a': 400, 'b': 400, 'd': 400, 'c': 300}\n"
     ]
    }
   ],
   "source": [
    "d1 = {'a': 100, 'b': 200, 'c':300}\n",
    "d2 = {'a': 300, 'b': 200, 'd':400}\n",
    "for key in d2:\n",
    "    if key in d1:\n",
    "        d2[key]=d2[key]+d1[key]\n",
    "for key in d1:\n",
    "    if key in d2:\n",
    "        pass\n",
    "    else:\n",
    "        d2[key]= d1[key]\n",
    "print(d2)    "
   ]
  },
  {
   "cell_type": "code",
   "execution_count": 4,
   "id": "6a8c7b80",
   "metadata": {},
   "outputs": [
    {
     "name": "stdout",
     "output_type": "stream",
     "text": [
      "Enter a number 8\n",
      "{1: 1, 2: 4, 3: 9, 4: 16, 5: 25, 6: 36, 7: 49, 8: 64}\n"
     ]
    }
   ],
   "source": [
    "n = int(input(\"Enter a number \"))\n",
    "my_dictionary = {}\n",
    "for i in range(1, n+1):\n",
    "    y = i*i\n",
    "    my_dictionary[i] = y\n",
    "print(my_dictionary)    "
   ]
  },
  {
   "cell_type": "code",
   "execution_count": 5,
   "id": "25b30fc6",
   "metadata": {},
   "outputs": [
    {
     "name": "stdout",
     "output_type": "stream",
     "text": [
      "[('item3', '24.5'), ('item2', '15.10'), ('item1', '12.20')]\n"
     ]
    }
   ],
   "source": [
    "def list_tuple(tuples):\n",
    "    return sorted(tuples, reverse = True)\n",
    "print(list_tuple([('item1', '12.20'), ('item2', '15.10'), ('item3', '24.5')]))"
   ]
  },
  {
   "cell_type": "code",
   "execution_count": null,
   "id": "42d97aa8",
   "metadata": {},
   "outputs": [],
   "source": []
  }
 ],
 "metadata": {
  "kernelspec": {
   "display_name": "Python 3",
   "language": "python",
   "name": "python3"
  },
  "language_info": {
   "codemirror_mode": {
    "name": "ipython",
    "version": 3
   },
   "file_extension": ".py",
   "mimetype": "text/x-python",
   "name": "python",
   "nbconvert_exporter": "python",
   "pygments_lexer": "ipython3",
   "version": "3.8.8"
  }
 },
 "nbformat": 4,
 "nbformat_minor": 5
}
